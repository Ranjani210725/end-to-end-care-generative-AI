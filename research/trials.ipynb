{
 "cells": [
  {
   "cell_type": "code",
   "execution_count": 1,
   "id": "e58d4d54",
   "metadata": {},
   "outputs": [
    {
     "data": {
      "text/plain": [
       "'c:\\\\Users\\\\ranja\\\\end-to-end-care-generative-AI\\\\research'"
      ]
     },
     "execution_count": 1,
     "metadata": {},
     "output_type": "execute_result"
    }
   ],
   "source": [
    "%pwd"
   ]
  },
  {
   "cell_type": "code",
   "execution_count": 4,
   "id": "378ae4cd",
   "metadata": {},
   "outputs": [],
   "source": [
    "import os\n",
    "os.chdir(\"../\")"
   ]
  },
  {
   "cell_type": "code",
   "execution_count": 5,
   "id": "d56140ee",
   "metadata": {},
   "outputs": [
    {
     "data": {
      "text/plain": [
       "'c:\\\\Users\\\\ranja\\\\end-to-end-care-generative-AI'"
      ]
     },
     "execution_count": 5,
     "metadata": {},
     "output_type": "execute_result"
    }
   ],
   "source": [
    "%pwd"
   ]
  },
  {
   "cell_type": "code",
   "execution_count": 6,
   "id": "c8d811e9",
   "metadata": {},
   "outputs": [],
   "source": [
    "from langchain.document_loaders import PyPDFLoader, DirectoryLoader\n",
    "from langchain.text_splitter import RecursiveCharacterTextSplitter"
   ]
  },
  {
   "cell_type": "code",
   "execution_count": 7,
   "id": "a88885bf",
   "metadata": {},
   "outputs": [],
   "source": [
    "#Extract Data From the PDF File\n",
    "def load_pdf_file(data):\n",
    "    loader=DirectoryLoader(data,glob=\"*.pdf\",loader_cls=PyPDFLoader)\n",
    "    documents=loader.load()\n",
    "    return documents"
   ]
  },
  {
   "cell_type": "code",
   "execution_count": 9,
   "id": "921d644c",
   "metadata": {},
   "outputs": [],
   "source": [
    "extracted_data = load_pdf_file('./Data')\n"
   ]
  },
  {
   "cell_type": "code",
   "execution_count": 10,
   "id": "10502ae3",
   "metadata": {},
   "outputs": [
    {
     "name": "stdout",
     "output_type": "stream",
     "text": [
      "c:\\Users\\ranja\\end-to-end-care-generative-AI\n"
     ]
    }
   ],
   "source": [
    "print(os.getcwd())\n"
   ]
  },
  {
   "cell_type": "code",
   "execution_count": 11,
   "id": "054f5dd5",
   "metadata": {},
   "outputs": [],
   "source": [
    "#extracted_data"
   ]
  },
  {
   "cell_type": "code",
   "execution_count": 11,
   "id": "c1edee34",
   "metadata": {},
   "outputs": [],
   "source": [
    "# Split the Data into Text Chunks\n",
    "def text_split(extracted_data):\n",
    "    text_splitter=RecursiveCharacterTextSplitter(chunk_size=500, chunk_overlap=20)\n",
    "    text_chunks=text_splitter.split_documents (extracted_data)\n",
    "    return text_chunks"
   ]
  },
  {
   "cell_type": "code",
   "execution_count": 12,
   "id": "d57cb946",
   "metadata": {},
   "outputs": [
    {
     "name": "stdout",
     "output_type": "stream",
     "text": [
      "length of text chunks 5699\n"
     ]
    }
   ],
   "source": [
    "text_chunks=text_split(extracted_data)\n",
    "print(\"length of text chunks\",len(text_chunks))"
   ]
  },
  {
   "cell_type": "code",
   "execution_count": 13,
   "id": "4ae5a7de",
   "metadata": {},
   "outputs": [],
   "source": [
    "from langchain.embeddings import HuggingFaceEmbeddings\n"
   ]
  },
  {
   "cell_type": "code",
   "execution_count": 14,
   "id": "61281a37",
   "metadata": {},
   "outputs": [],
   "source": [
    "def download_hugging_face_embeddings():\n",
    "    embeddings=HuggingFaceEmbeddings(model_name='sentence-transformers/all-MiniLM-L6-v2')\n",
    "    return embeddings"
   ]
  },
  {
   "cell_type": "code",
   "execution_count": 16,
   "id": "fe350138",
   "metadata": {},
   "outputs": [],
   "source": [
    "embeddings=download_hugging_face_embeddings()"
   ]
  },
  {
   "cell_type": "code",
   "execution_count": 17,
   "id": "6a4a2d92",
   "metadata": {},
   "outputs": [],
   "source": [
    "from langchain.embeddings import HuggingFaceEmbeddings\n",
    "\n",
    "def download_hugging_face_embeddings():\n",
    "    embeddings = HuggingFaceEmbeddings(model_name='sentence-transformers/all-MiniLM-L6-v2')\n",
    "    return embeddings\n",
    "\n",
    "embeddings = download_hugging_face_embeddings()\n"
   ]
  },
  {
   "cell_type": "code",
   "execution_count": 18,
   "id": "2d2f71ad",
   "metadata": {},
   "outputs": [
    {
     "name": "stdout",
     "output_type": "stream",
     "text": [
      "length 384\n"
     ]
    }
   ],
   "source": [
    "query_result=embeddings.embed_query(\"hello world\")\n",
    "print(\"length\",len(query_result))"
   ]
  },
  {
   "cell_type": "code",
   "execution_count": 191,
   "id": "b09414eb",
   "metadata": {},
   "outputs": [],
   "source": [
    "#query_result"
   ]
  },
  {
   "cell_type": "code",
   "execution_count": 19,
   "id": "f67af5ac",
   "metadata": {},
   "outputs": [
    {
     "data": {
      "text/plain": [
       "True"
      ]
     },
     "execution_count": 19,
     "metadata": {},
     "output_type": "execute_result"
    }
   ],
   "source": [
    "from dotenv import load_dotenv\n",
    "load_dotenv()"
   ]
  },
  {
   "cell_type": "code",
   "execution_count": 20,
   "id": "01abd394",
   "metadata": {},
   "outputs": [],
   "source": [
    "PINECONE_API_KEY=os.environ.get('PINCONE_API_KEY')\n",
    "COHERA_API_KEY=os.environ.get('OPENAI_API_KEY')\n"
   ]
  },
  {
   "cell_type": "code",
   "execution_count": null,
   "id": "bb99e869",
   "metadata": {},
   "outputs": [],
   "source": []
  },
  {
   "cell_type": "code",
   "execution_count": 21,
   "id": "b70c73b6",
   "metadata": {},
   "outputs": [],
   "source": [
    "from pinecone import Pinecone, ServerlessSpec\n",
    "\n",
    "pc = Pinecone(api_key=\"pcsk_3pivjw_DyTaZc32XRucj9sc6JJTbxEbrReY96AtEbbpjkLKrsjJHvjbaqmR5nerYZQR9Gh\")\n"
   ]
  },
  {
   "cell_type": "code",
   "execution_count": 22,
   "id": "8e448aaf",
   "metadata": {},
   "outputs": [],
   "source": [
    "#from pinecone.grpc import PineconeGRPC as Pinecone\n",
    "#from pinecone import ServerlessSpec\n",
    "\n",
    "#pc = Pinecone(api_key=\"pcsk_fNHUg_9r1qEX2iirXAZhSAQwXdqaU976t2KUj8Kz5xiDZKXAdtKXtHm1zWrf8FnZeYcJi\")\n",
    "#pc.create_index(\n",
    " #   name=\"carebot\",\n",
    "  #  dimension=384,\n",
    "   # metric=\"cosine\",\n",
    "    #spec=ServerlessSpec(\n",
    "     #   cloud=\"aws\",\n",
    "      #  region=\"us-east-1\"\n",
    "    #)\n",
    "#)"
   ]
  },
  {
   "cell_type": "code",
   "execution_count": 23,
   "id": "1419601f",
   "metadata": {},
   "outputs": [],
   "source": [
    "from pinecone.grpc import PineconeGRPC as Pinecone\n",
    "from pinecone import ServerlessSpec\n",
    "\n",
    "# Define your Pinecone API key and index name\n",
    "pc = Pinecone(api_key=\"pcsk_3pivjw_DyTaZc32XRucj9sc6JJTbxEbrReY96AtEbbpjkLKrsjJHvjbaqmR5nerYZQR9Gh\")  # Replace with your real key\n",
    "index_name = \"carebot\"\n",
    "\n",
    "# Check if index exists\n",
    "if index_name not in pc.list_indexes().names():\n",
    "    pc.create_index(\n",
    "        name=index_name,\n",
    "        dimension=384,\n",
    "        metric=\"cosine\",\n",
    "        spec=ServerlessSpec(\n",
    "            cloud=\"aws\",\n",
    "            region=\"us-east-1\"\n",
    "        )\n",
    "    )\n",
    "else:\n",
    "    print(f\"Index '{index_name}' already exists.\")\n",
    "\n",
    "# Use the index\n",
    "index = pc.Index(index_name)\n"
   ]
  },
  {
   "cell_type": "code",
   "execution_count": 24,
   "id": "5f933353",
   "metadata": {},
   "outputs": [],
   "source": [
    "import os\n",
    "\n",
    "PINECONE_API_KEY=os.environ.get(\"PINECONE_API_KEY\")\n",
    "COHERE_API_KEY=os.environ.get(\"COHERE_API_KEY\")"
   ]
  },
  {
   "cell_type": "code",
   "execution_count": 25,
   "id": "ccad63b5",
   "metadata": {},
   "outputs": [],
   "source": [
    "os.environ[\"PINECONE_API_KEY\"]= PINECONE_API_KEY\n",
    "os.environ[\"COHERE_API_KEY\"]=COHERE_API_KEY"
   ]
  },
  {
   "cell_type": "code",
   "execution_count": 26,
   "id": "3a4078bd",
   "metadata": {},
   "outputs": [],
   "source": [
    "from langchain_pinecone import PineconeVectorStore\n",
    "docsearch=PineconeVectorStore.from_documents(\n",
    "    documents =text_chunks,\n",
    "    index_name=index_name,\n",
    "    embedding=embeddings, \n",
    ")"
   ]
  },
  {
   "cell_type": "code",
   "execution_count": 27,
   "id": "d9c4694f",
   "metadata": {},
   "outputs": [
    {
     "name": "stdout",
     "output_type": "stream",
     "text": [
      "pcsk_fNHUg_9r1qEX2iirXAZhSAQwXdqaU976t2KUj8Kz5xiDZKXAdtKXtHm1zWrf8FnZeYcJi\n",
      "YgRZwrEJjTlHQvuSvWff6TtJK62anJ3hZBpPIfLw\n"
     ]
    }
   ],
   "source": [
    "print(os.environ.get(\"PINECONE_API_KEY\"))\n",
    "print(os.environ.get(\"COHERE_API_KEY\")  # Should print your key\n",
    ")"
   ]
  },
  {
   "cell_type": "code",
   "execution_count": 28,
   "id": "184b9fd4",
   "metadata": {},
   "outputs": [],
   "source": [
    "from langchain_pinecone import PineconeVectorStore\n",
    "docsearch=PineconeVectorStore.from_existing_index(\n",
    "    index_name=index_name,\n",
    "    embedding=embeddings\n",
    "\n",
    ")"
   ]
  },
  {
   "cell_type": "code",
   "execution_count": 29,
   "id": "8955953c",
   "metadata": {},
   "outputs": [
    {
     "data": {
      "text/plain": [
       "<langchain_pinecone.vectorstores.PineconeVectorStore at 0x1f6bf494f70>"
      ]
     },
     "execution_count": 29,
     "metadata": {},
     "output_type": "execute_result"
    }
   ],
   "source": [
    "docsearch"
   ]
  },
  {
   "cell_type": "code",
   "execution_count": 30,
   "id": "5926a27a",
   "metadata": {},
   "outputs": [],
   "source": [
    "retriever=docsearch.as_retriever(search_type=\"similarity\",search_kwargs={\"k\":3})"
   ]
  },
  {
   "cell_type": "code",
   "execution_count": 31,
   "id": "86224720",
   "metadata": {},
   "outputs": [],
   "source": [
    "retrieved_docs=retriever.invoke(\"what is acne?\")"
   ]
  },
  {
   "cell_type": "code",
   "execution_count": 32,
   "id": "8257b908",
   "metadata": {},
   "outputs": [
    {
     "data": {
      "text/plain": [
       "[Document(id='c4983baf-9c71-48eb-84be-87a8d7255a9c', metadata={'author': 'Clifford', 'creationdate': '2004-12-28T15:38:25-05:00', 'creator': 'PyPDF', 'enhanced': 'By PDF Enhancer 2.5/Win', 'moddate': '2005-05-04T13:53:15-06:00', 'page': 4.0, 'page_label': '5', 'producer': 'PDFlib+PDI 5.0.0 (SunOS)', 'source': 'Data\\\\medical_book.pdf', 'spdf': '1096', 'total_pages': 599.0}, page_content='A\\nAbscess\\nAcidophilus\\nAcne\\nAconite\\nAcupressure\\nAcupuncture\\nAdemetionine\\nAdie’s pupil\\nAfrican pygeum\\nAgastache\\nAging\\nAIDS\\nAlcoholism\\nAlexander technique\\nAlfalfa\\nAlisma\\nAllergies\\nAllium cepa\\nAloe\\nAlpha-hydroxy\\nAlzheimer’s disease\\nAmino acids\\nAndrographis\\nAndrostenedione\\nAnemarrhena\\nAnemia\\nAngelica root\\nAngina\\nAnise\\nAnkylosing spondylitis\\nAnorexia nervosa\\nAnthroposophical medicine\\nAntioxidants\\nAnxiety\\nBates method\\nBayberry\\nBedsores\\nBedwetting\\nBee pollen\\nBehavioral optometry\\nBehavioral therapy'),\n",
       " Document(id='501c856a-4b8e-4c1e-ac23-6ec00e48cdb1', metadata={'author': 'Clifford', 'creationdate': '2004-12-28T15:38:25-05:00', 'creator': 'PyPDF', 'enhanced': 'By PDF Enhancer 2.5/Win', 'moddate': '2005-05-04T13:53:15-06:00', 'page': 99.0, 'page_label': '100', 'producer': 'PDFlib+PDI 5.0.0 (SunOS)', 'source': 'Data\\\\medical_book.pdf', 'spdf': '1096', 'total_pages': 599.0}, page_content='Atopy —A group of diseases, including eczema,\\nthat develop in people with an inherited tendency\\nto develop immediate antibodies to common en-\\nvironmental allergens.\\nCorticosteroids —A group of synthetic hormones\\nthat are used to prevent or reduce inflammation.\\nT oxic effects may result from rapid withdrawal\\nafter prolonged use or from continued use of large\\ndoses.\\nDermatitis —An irritation or imflammation of the\\nskin.\\nNummular dermatitis —A skin infection in which'),\n",
       " Document(id='83cba585-83dd-4cd9-a03a-1c5021d09be3', metadata={'author': 'Clifford', 'creationdate': '2004-12-28T15:38:25-05:00', 'creator': 'PyPDF', 'enhanced': 'By PDF Enhancer 2.5/Win', 'moddate': '2005-05-04T13:53:15-06:00', 'page': 39.0, 'page_label': '40', 'producer': 'PDFlib+PDI 5.0.0 (SunOS)', 'source': 'Data\\\\medical_book.pdf', 'spdf': '1096', 'total_pages': 599.0}, page_content='after prolonged use or from continued use of large\\ndoses.\\nPatch test —A skin test that is done to identify al-\\nlergens. A suspected substance is applied to the\\nskin. After 24–48 hours, if the area is red and\\nswollen, the test is positive for that substance.\\nRash —A spotted, pink or red skin eruption that\\nmay be accompanied by itching and is caused by\\ndisease, contact with an allergen, food ingestion,\\nor drug reaction.\\nUlcer —An open sore on the skin, resulting from')]"
      ]
     },
     "execution_count": 32,
     "metadata": {},
     "output_type": "execute_result"
    }
   ],
   "source": [
    "retrieved_docs"
   ]
  },
  {
   "cell_type": "code",
   "execution_count": 33,
   "id": "0ba2c6b2",
   "metadata": {},
   "outputs": [
    {
     "name": "stderr",
     "output_type": "stream",
     "text": [
      "C:\\Users\\ranja\\AppData\\Local\\Temp\\ipykernel_13268\\795543653.py:3: LangChainDeprecationWarning: The class `Cohere` was deprecated in LangChain 0.1.14 and will be removed in 1.0. An updated version of the class exists in the :class:`~langchain-cohere package and should be used instead. To use it run `pip install -U :class:`~langchain-cohere` and import as `from :class:`~langchain_cohere import Cohere``.\n",
      "  llm=Cohere(temperature=0.4,max_tokens=500)\n"
     ]
    }
   ],
   "source": [
    "\n",
    "from langchain_community.llms import Cohere\n",
    "\n",
    "llm=Cohere(temperature=0.4,max_tokens=500)"
   ]
  },
  {
   "cell_type": "code",
   "execution_count": 34,
   "id": "ee0ebd64",
   "metadata": {},
   "outputs": [],
   "source": [
    "from langchain.chains import create_retrieval_chain\n",
    "from langchain.chains.combine_documents import create_stuff_documents_chain\n",
    "from langchain_core.prompts import ChatPromptTemplate\n",
    "\n",
    "system_prompt=(\n",
    "    \"You are an assistant for question-answering tasks.\"\n",
    "    \"Use the following pieces of retrieved context to answer\"\n",
    "    \"the question. If you don't know the answer,say that you\"\n",
    "    \"don't know. Use three sentences maximum and keep the \\n\\n{context}\"\n",
    ")\n",
    "\n",
    "prompt=ChatPromptTemplate.from_messages(\n",
    "    [\n",
    "        (\"system\",system_prompt),\n",
    "        (\"human\",\"{input}\"),\n",
    "    ]\n",
    ")"
   ]
  },
  {
   "cell_type": "code",
   "execution_count": 35,
   "id": "4a46d894",
   "metadata": {},
   "outputs": [],
   "source": [
    "question_answer_chain=create_stuff_documents_chain(llm,prompt)\n",
    "rag_chain=create_retrieval_chain(retriever,question_answer_chain)"
   ]
  },
  {
   "cell_type": "code",
   "execution_count": null,
   "id": "aedc2867",
   "metadata": {},
   "outputs": [],
   "source": []
  },
  {
   "cell_type": "code",
   "execution_count": 36,
   "id": "30944b38",
   "metadata": {},
   "outputs": [
    {
     "name": "stdout",
     "output_type": "stream",
     "text": [
      " Fever is an elevation of the body's temperature to at least 100 degrees Fahrenheit (37.8 degrees Celsius). Fevers are part of the body's response to an infection as pathogens do not thrive at higher temperatures. The immune system's white blood cells work best in a warm environment. \n"
     ]
    }
   ],
   "source": [
    "response=rag_chain.invoke({\"input\":\"What is fever?\"})\n",
    "print(response[\"answer\"])"
   ]
  },
  {
   "cell_type": "code",
   "execution_count": 37,
   "id": "73e8781e",
   "metadata": {},
   "outputs": [
    {
     "name": "stdout",
     "output_type": "stream",
     "text": [
      " Sorry, the provided context does not mention anything related to stats or statistics. I don't have any information on what \"stats\" refers to in this context. \n",
      "\n",
      "Could you please provide more context or clarify what you would like to know? Then, I can answer your question to the best of my ability. \n"
     ]
    }
   ],
   "source": [
    "response=rag_chain.invoke({\"input\": \"What is stats?\"})\n",
    "print (response[\"answer\"])\n"
   ]
  },
  {
   "cell_type": "code",
   "execution_count": 38,
   "id": "adabf28f",
   "metadata": {},
   "outputs": [
    {
     "name": "stdout",
     "output_type": "stream",
     "text": [
      " I don't know but I can provide some information on Acromegaly. \n",
      "\n",
      "Acromegaly is a hormonal condition that produces abnormal growth of the hands, feet, and jaws, as well as the gums and soft tissues of the mouth. It most commonly presents in adulthood and can be a result of a benign tumor on the pituitary gland that produces an excess amount of growth hormone (GH). \n",
      "\n",
      "In addition to abnormal growth, acromegaly can also cause other complications such as arthritis, fatigue, and vision problems. Treatment often involves surgery or radiation to remove the tumor, or medical options that can suppress the excess GH and reduce the complications. \n",
      "\n",
      "I hope this helps provide some useful information on acromegaly. Let me know if there's anything else I can help with. \n"
     ]
    }
   ],
   "source": [
    "response=rag_chain.invoke({\"input\": \"What is acromegaly?\"})\n",
    "print (response[\"answer\"])"
   ]
  }
 ],
 "metadata": {
  "kernelspec": {
   "display_name": "carebot",
   "language": "python",
   "name": "python3"
  },
  "language_info": {
   "codemirror_mode": {
    "name": "ipython",
    "version": 3
   },
   "file_extension": ".py",
   "mimetype": "text/x-python",
   "name": "python",
   "nbconvert_exporter": "python",
   "pygments_lexer": "ipython3",
   "version": "3.10.18"
  }
 },
 "nbformat": 4,
 "nbformat_minor": 5
}
